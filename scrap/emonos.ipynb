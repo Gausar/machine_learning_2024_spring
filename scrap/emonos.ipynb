{
 "cells": [
  {
   "cell_type": "code",
   "execution_count": 1,
   "metadata": {},
   "outputs": [],
   "source": [
    "import requests\n",
    "import urllib.request\n",
    "from bs4 import BeautifulSoup\n",
    "import pandas as pd"
   ]
  },
  {
   "cell_type": "code",
   "execution_count": 2,
   "metadata": {},
   "outputs": [],
   "source": [
    "class Drugs:\n",
    "    def __init__(self, name_, price_):\n",
    "        self.name = name_\n",
    "        self.price = price_\n",
    "        \n",
    "        "
   ]
  },
  {
   "cell_type": "code",
   "execution_count": null,
   "metadata": {},
   "outputs": [],
   "source": [
    "baseurl = \"https://back.emonos.mn/media/thumbnail/product/0535601_0535602_GLIC4KJ.png\"\n",
    "car_list = []\n",
    "for i in range(1, 200):\n",
    "    url = baseurl + str(i)\n",
    "\n",
    "    response = requests.get(url)\n",
    "    if response.status_code != 200:\n",
    "        print(response.status_code)\n",
    "        print('error', url)\n",
    "        continue\n",
    "    soup = BeautifulSoup(response.text, \"html.parser\")\n",
    "\n",
    "    li_list = soup.find_all(\"div\", {\"class\": \"swiper-wrapper\"})\n",
    "    for li in li_list:\n",
    "        a = li.find('a')\n",
    "        car_url = \"https://www.unegui.mn\" + a['href']\n",
    "        #print(car_url)\n",
    "        car_list.append(car_url)"
   ]
  }
 ],
 "metadata": {
  "kernelspec": {
   "display_name": "Python 3",
   "language": "python",
   "name": "python3"
  },
  "language_info": {
   "codemirror_mode": {
    "name": "ipython",
    "version": 3
   },
   "file_extension": ".py",
   "mimetype": "text/x-python",
   "name": "python",
   "nbconvert_exporter": "python",
   "pygments_lexer": "ipython3",
   "version": "3.11.4"
  },
  "orig_nbformat": 4
 },
 "nbformat": 4,
 "nbformat_minor": 2
}
