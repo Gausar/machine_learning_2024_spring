{
 "cells": [
  {
   "cell_type": "code",
   "execution_count": 3,
   "metadata": {},
   "outputs": [],
   "source": [
    "import requests\n",
    "import urllib.request\n",
    "from bs4 import BeautifulSoup\n",
    "import pandas as pd"
   ]
  },
  {
   "cell_type": "code",
   "execution_count": 8,
   "metadata": {},
   "outputs": [],
   "source": [
    "class Books:\n",
    "    def __init__(self, title_, price_, author_, language_, category_, pub_year_, page_num_, format_):\n",
    "        self.title = title_\n",
    "        self.price = price_\n",
    "        self.author = author_\n",
    "        self.category = category_\n",
    "        self.pub_year = pub_year_\n",
    "        self.page_num = page_num_\n",
    "        self.format = format_\n",
    "        self.language = language_"
   ]
  },
  {
   "cell_type": "code",
   "execution_count": 4,
   "metadata": {},
   "outputs": [
    {
     "name": "stdout",
     "output_type": "stream",
     "text": [
      "https://internom.mn/%D0%B1%D0%B0%D1%80%D0%B0%D0%B0/9789996230097-%D1%85%D0%B0%D1%80%D0%B0%D0%B0%D1%81%D0%B3%D0%B0%D0%B9-%D0%BC%D1%8D%D1%80%D0%B3%D1%8D%D0%BD\n",
      "https://internom.mn/%D0%B1%D0%B0%D1%80%D0%B0%D0%B0/9789992926208-%D0%B3%D0%B0%D0%B4%D0%B0%D0%B0%D0%B4%D1%8B%D0%BD-%D1%83%D1%82%D0%B3%D0%B0-%D0%B7%D0%BE%D1%85%D0%B8%D0%BE%D0%BB%D1%8B%D0%BD-%D3%A9%D0%B3%D2%AF%D2%AF%D0%BB%D0%BB%D2%AF%D2%AF%D0%B4-9\n",
      "https://internom.mn/%D0%B1%D0%B0%D1%80%D0%B0%D0%B0/9789996244896-%D0%B0%D0%BB%D0%B8%D0%B2-%D0%BD%D0%B0%D0%B9%D0%B7%D1%83%D1%83%D0%B4%D0%B0%D0%B0-%D0%B3%D0%B8%D1%82%D0%B0%D1%80%D0%B0%D0%B0-%D1%82%D0%BE%D0%B3%D0%BB%D0%BE%D1%86%D0%B3%D0%BE%D0%BE%D1%91\n",
      "https://internom.mn/%D0%B1%D0%B0%D1%80%D0%B0%D0%B0/9789997803696-%D0%BE%D0%BD-%D0%B6%D0%B8%D0%BB%D2%AF%D2%AF%D0%B4%D0%B8%D0%B9%D0%BD-%D0%B4%D1%83%D1%80%D1%81%D0%B0%D0%BC%D0%B6\n",
      "https://internom.mn/%D0%B1%D0%B0%D1%80%D0%B0%D0%B0/9789996299209-%D0%B7%D0%B0%D0%BC%D0%B1%D1%83%D1%83%D0%BB%D0%B8%D0%BD-%D0%B4%D1%83%D1%83%D1%81%D0%B0%D1%85-%D0%B1%D0%BE%D0%BB%D0%BE%D0%BE%D0%B3%D2%AF%D0%B9\n",
      "https://internom.mn/%D0%B1%D0%B0%D1%80%D0%B0%D0%B0/9789997338792-%D3%A9%D1%81%D0%B2%D3%A9%D1%80%D0%B8%D0%B9%D0%BD-%D1%88%D0%B0%D1%82%D0%B0%D1%80%D1%87%D0%B4%D1%8B%D0%BD-%D0%B0%D0%B7%D0%B8-%D1%82%D0%B8%D0%B2%D0%B8%D0%B9%D0%BD-%D0%B0%D0%B2%D0%B0%D1%80%D0%B3%D0%B0-%D1%88%D0%B0%D0%BB%D0%B3%D0%B0%D1%80%D1%83%D1%83%D0%BB%D0%B0%D1%85-%D1%82%D1%8D%D0%BC%D1%86%D1%8D%D1%8D%D0%BD\n",
      "https://internom.mn/%D0%B1%D0%B0%D1%80%D0%B0%D0%B0/9789997345301-%D1%82%D1%83%D1%85%D0%B0%D0%B9%D0%BD-%D0%B6%D0%B8%D0%BB%D0%B8%D0%B9%D0%BD-%D0%B3%D0%B0%D0%B7%D0%B0%D1%80-%D0%B7%D0%BE%D1%85%D0%B8%D0%BE%D0%BD-%D0%B1%D0%B0%D0%B9%D0%B3%D1%83%D1%83%D0%BB%D0%B0%D0%BB%D1%82%D1%8B%D0%BD-%D1%82%D3%A9%D0%BB%D3%A9%D0%B2%D0%BB%D3%A9%D0%B3%D3%A9%D3%A9-%D0%B1%D0%BE%D0%BB%D0%BE%D0%B2%D1%81%D1%80%D1%83%D1%83%D0%BB%D0%B0%D1%85-%D0%B0%D1%80%D0%B3%D0%B0-%D0%B7%D2%AF%D0%B9\n",
      "https://internom.mn/%D0%B1%D0%B0%D1%80%D0%B0%D0%B0/9789997835772-%D1%83%D0%BB%D0%B0%D0%B0%D0%BD-%D0%B1%D0%B0%D1%80%D0%B8%D0%BD%D1%82%D0%B0%D0%B3%D1%82%D0%B0%D0%B9-%D1%81%D1%83%D0%B4%D0%B0%D1%80\n",
      "https://internom.mn/%D0%B1%D0%B0%D1%80%D0%B0%D0%B0/9789997894229-%D0%BC%D1%83%D1%8D%D0%B8%D1%81-%D0%B8%D0%B9%D0%BD-%D1%8D%D1%80%D0%B4%D1%8D%D0%BC-%D1%88%D0%B8%D0%BD%D0%B6%D0%B8%D0%BB%D0%B3%D1%8D%D1%8D%D0%BD%D0%B8%D0%B9-%D0%B1%D0%B8%D1%87%D0%B8%D0%B3\n",
      "https://internom.mn/%D0%B1%D0%B0%D1%80%D0%B0%D0%B0/9789997854285-%D2%AF%D0%BD%D1%81%D0%B3%D1%8D%D0%BB%D0%B6%D0%B8%D0%BD\n",
      "https://internom.mn/%D0%B1%D0%B0%D1%80%D0%B0%D0%B0/9789996259258-%D1%83%D1%80%D0%BB%D0%B0%D0%B3%D0%B8%D0%B9%D0%BD-%D1%84%D0%B8%D0%BB%D0%BE%D1%81%D0%BE%D1%84%D0%B8\n",
      "https://internom.mn/%D0%B1%D0%B0%D1%80%D0%B0%D0%B0/9789997824899-%D0%BC%D0%BE%D0%BD%D0%B3%D0%BE%D0%BB-%D1%83%D0%BB%D1%81%D1%8B%D0%BD-%D2%AF%D0%B9%D0%BB%D0%B4%D0%B2%D1%8D%D1%80%D0%B6%D2%AF%D2%AF%D0%BB%D1%8D%D0%BB%D1%82%D0%B8%D0%B9%D0%BD-%D1%82%D2%AF%D2%AF%D1%85%D1%8D%D1%8D%D1%81-%D0%B4%D1%83%D1%80%D1%81%D0%B0%D1%85%D1%83%D0%B9\n",
      "https://internom.mn/%D0%B1%D0%B0%D1%80%D0%B0%D0%B0/9789997375445-%D1%85%D2%AF%D0%BC%D2%AF%D2%AF%D0%BD-%D0%B1%D0%B0-%D1%81%D0%B0%D1%80%D1%85%D0%B0%D0%B4\n",
      "https://internom.mn/%D0%B1%D0%B0%D1%80%D0%B0%D0%B0/8658000244638-%D0%BF%D0%BE%D0%BB%D0%B8%D0%BC%D0%B5%D1%80-%D1%88%D0%B0%D0%B2%D1%80%D0%B0%D0%B0%D1%80-%D1%83%D1%80%D0%BB%D0%B0%D1%85%D1%83%D0%B9\n",
      "https://internom.mn/%D0%B1%D0%B0%D1%80%D0%B0%D0%B0/9781853397028-%D1%85%D3%A9%D0%B4%D3%A9%D3%A9-%D0%B0%D0%B6-%D0%B0%D1%85%D1%83%D0%B9%D0%BD-%D2%AF%D0%BD%D1%8D-%D1%86%D1%8D%D0%BD%D0%B8%D0%B9%D0%BD-%D1%85%D1%8D%D0%BB%D1%85%D1%8D%D1%8D%D0%BD%D0%B8%D0%B9-%D1%81%D0%B0%D0%BD%D1%85%D2%AF%D2%AF\n",
      "https://internom.mn/%D0%B1%D0%B0%D1%80%D0%B0%D0%B0/9789996214233-%D1%83%D0%BB%D0%B0%D0%BC%D0%B6%D0%BB%D0%B0%D0%BB%D1%82-%D0%B0%D0%BD%D0%B0%D0%B3%D0%B0%D0%B0%D1%85-%D1%83%D1%85%D0%B0%D0%B0%D0%BD\n",
      "https://internom.mn/%D0%B1%D0%B0%D1%80%D0%B0%D0%B0/9789997828699-%D1%85%D2%AF%D0%BD-%D1%85%D3%A9%D1%80%D3%A9%D0%B3-%D0%B7%D1%83%D1%80%D0%B3%D0%B8%D0%B9%D0%BD-%D2%AF%D0%B7%D1%8D%D1%81%D0%B3%D1%8D%D0%BB%D1%8D%D0%BD\n",
      "https://internom.mn/%D0%B1%D0%B0%D1%80%D0%B0%D0%B0/9789919208295-%D1%8D%D1%80%D0%B4%D1%8D%D0%BD%D1%8D%D1%82%D0%BE%D0%BB%D0%B3%D0%BE%D0%B9%D0%BD-%D0%BD%D1%83%D1%83%D1%86\n",
      "https://internom.mn/%D0%B1%D0%B0%D1%80%D0%B0%D0%B0/9781983885457-%D0%B0%D1%88%D0%B3%D0%B8%D0%B9%D0%BD-%D0%B1%D1%83%D1%81-%D0%B1%D0%B0%D0%B9%D0%B3%D1%83%D1%83%D0%BB%D0%BB%D0%B0%D0%B3%D1%8B%D0%BD-%D1%81%D1%82%D1%80%D0%B0%D1%82%D0%B5%D0%B3%D0%B8-%D1%82%D3%A9%D0%BB%D3%A9%D0%B2%D0%BB%D3%A9%D0%BB%D1%82\n",
      "https://internom.mn/%D0%B1%D0%B0%D1%80%D0%B0%D0%B0/9789992923801-%D0%B4%D1%8D%D0%BB%D0%B4%D1%8D%D0%BD-%D1%86%D1%8D%D0%BD%D1%85%D1%8D%D1%80\n",
      "https://internom.mn/%D0%B1%D0%B0%D1%80%D0%B0%D0%B0/9789997387745-%D1%87%D1%83%D0%BB%D1%83%D1%83%D0%BD-%D0%B7%D1%8D%D0%B2%D1%81%D1%8D%D0%B3%D0%B8%D0%B9%D0%BD-%D2%AF%D0%B5%D0%B8%D0%B9%D0%BD-%D0%B1%D0%B8%D1%87%D0%B3%D0%B8%D0%B9%D0%BD-%D1%85%D1%8D%D0%BB%D0%BD%D0%B8%D0%B9-%D3%A9%D0%B2%D3%A9%D0%B3-%D1%85%D1%8D%D0%BB%D0%B1%D1%8D%D1%80%D0%B8%D0%B9%D0%B3-%D0%BC%D0%BE%D0%BD%D0%B3%D0%BE%D0%BB-%D0%BE%D1%80%D0%BD%D1%8B-%D0%BD%D1%83%D1%82%D0%B3%D0%B0%D0%B0%D1%81-%D0%BE%D0%BB%D0%B6-%D0%BD%D1%8D%D1%8D%D1%81%D1%8D%D0%BD-%D0%B1%D0%BE%D0%BB%D0%BE%D0%BD-%D1%85%D2%AF%D0%BD%D0%BD%D2%AF%D0%B3%D0%B8%D0%B9%D0%BD-%D0%B1%D1%83%D0%BB%D1%88%D0%BD%D0%B0%D0%B0%D1%81-%D0%BE%D0%BB%D0%B4%D1%81%D0%BE%D0%BD-%D0%B1%D0%B8%D1%87%D0%B3%D0%B8%D0%B9%D0%B3-%D1%82%D0%B0%D0%B9%D0%BB%D0%B6-%D1%83%D0%BD%D1%88%D1%81%D0%B0%D0%BD-%D1%82%D1%83%D1%85%D0%B0%D0%B9\n",
      "https://internom.mn/%D0%B1%D0%B0%D1%80%D0%B0%D0%B0/9789919227784-%D1%82%D1%8D%D0%BD%D0%B3%D1%8D%D1%80%D0%B8%D0%B9%D0%BD-%D1%82%D0%B0%D0%BC%D0%B3%D0%B0\n",
      "https://internom.mn/%D0%B1%D0%B0%D1%80%D0%B0%D0%B0/9789997389718-%D1%85%D0%B0%D0%B9%D1%80%D1%8B%D0%BD-%D0%BE%D0%B2%D0%BE%D0%BE\n",
      "https://internom.mn/%D0%B1%D0%B0%D1%80%D0%B0%D0%B0/9789997830104-%D1%85%D3%A9%D1%85%D1%82%D3%A9%D0%BD-%D0%B0%D0%BC%D1%8C%D1%82%D0%B0%D0%B4\n",
      "https://internom.mn/%D0%B1%D0%B0%D1%80%D0%B0%D0%B0/9789919202118-%D0%B5%D1%80%D3%A9%D0%BD%D1%85%D0%B8%D0%B9-%D1%82%D0%BE%D0%BF%D0%BE%D0%BB%D0%BE%D0%B3\n",
      "https://internom.mn/%D0%B1%D0%B0%D1%80%D0%B0%D0%B0/9789997805355-%D1%8D%D0%BC%D1%8D%D0%B3%D1%82%D1%8D%D0%B9-%D1%85%D2%AF%D0%BD%D0%B8%D0%B9-%D0%B4%D0%BE%D1%82%D0%BE%D0%BE%D0%B4-%D0%B3%D0%BE%D0%BE-%D1%81%D0%B0%D0%B9%D1%85%D0%B0%D0%BD-%D0%B3%D1%8D%D0%B6-%D1%8E%D1%83-%D0%B2%D1%8D-1\n",
      "https://internom.mn/%D0%B1%D0%B0%D1%80%D0%B0%D0%B0/9789996286193-%D0%B0%D1%8F%D0%B0-%D0%BC%D0%B8%D0%BD%D0%B8%D0%B9-%D0%B0%D0%BC%D0%B8%D0%BD-%D1%85%D0%B0%D0%B9%D1%80%D1%82%D0%B0%D0%B9-%D0%BE%D1%80%D0%BE%D1%81-%D0%BE%D1%80%D0%BE%D0%BD-%D0%BC%D0%B8%D0%BD%D1%83\n",
      "https://internom.mn/%D0%B1%D0%B0%D1%80%D0%B0%D0%B0/9789997814227-%D0%BD%D0%B0%D0%B9%D1%80%D0%B3%D0%B8%D0%B9%D0%BD-%D0%B4%D0%B0%D0%B0%D0%B3%D0%B0\n",
      "https://internom.mn/%D0%B1%D0%B0%D1%80%D0%B0%D0%B0/9789919237059-ielts-600\n",
      "https://internom.mn/%D0%B1%D0%B0%D1%80%D0%B0%D0%B0/9789997345547-%D0%B0%D0%BD%D1%82%D0%B0%D1%80%D0%BA%D1%82%D0%B8%D0%B4-%D1%82%D0%B8%D0%B2%D0%B8%D0%B9%D0%BD-%D1%82%D1%8D%D0%BC%D0%B4%D1%8D%D0%B3%D0%BB%D1%8D%D0%BB%D1%8D%D1%8D%D1%81\n",
      "https://internom.mn/%D0%B1%D0%B0%D1%80%D0%B0%D0%B0/9789997811172-%D3%A9%D1%80%D1%81%D3%A9%D0%BB%D0%B4%D3%A9%D1%85-%D1%87%D0%B0%D0%B4%D0%B2%D0%B0%D1%80\n",
      "https://internom.mn/%D0%B1%D0%B0%D1%80%D0%B0%D0%B0/9789919239558-%D0%B8%D1%82%D0%B3%D1%8D%D0%B3%D1%87%D0%B8%D0%B9%D0%BD-%D1%8D%D1%80%D1%85-%D0%BC%D1%8D%D0%B4%D1%8D%D0%BB\n",
      "https://internom.mn/%D0%B1%D0%B0%D1%80%D0%B0%D0%B0/9789992986349-%D0%B7%D1%83%D1%80%D1%85%D0%B0%D0%B9%D0%BD-%D1%82%D3%A9%D0%B2%D0%B4-%D0%BC%D0%BE%D0%BD%D0%B3%D0%BE%D0%BB-%D1%82%D0%BE%D0%BB%D1%8C-%D0%B1%D0%B8%D1%87%D0%B8%D0%B3\n",
      "https://internom.mn/%D0%B1%D0%B0%D1%80%D0%B0%D0%B0/9789997833020-%D0%BC%D3%A9%D0%BD%D1%85%D3%A9%D3%A9-%D1%85%D2%AF%D2%AF-%D1%82%D0%B0%D1%80%D0%B2%D0%B0%D0%B3%D0%B0%D1%82%D0%B0%D0%B9-%D0%BD%D0%B0%D0%B9%D0%B7%D0%BB%D0%B0%D0%B2-1\n",
      "https://internom.mn/%D0%B1%D0%B0%D1%80%D0%B0%D0%B0/9789996230370-%D1%81%D0%BE%D0%BF%D0%BE%D1%81%D1%82%D0%B0%D0%B2%D0%B8%D1%82%D0%B5%D0%BB%D1%8C%D0%BD%D0%BE%D0%B5-%D1%82%D0%B5%D1%80%D0%BC%D0%B8%D0%BD%D0%BE%D0%B2%D0%B5%D0%B4%D0%B5%D0%BD%D0%B8%D0%B5\n",
      "https://internom.mn/%D0%B1%D0%B0%D1%80%D0%B0%D0%B0/9787100069274-hsk-6-%D1%80-%D0%B7%D1%8D%D1%80%D1%8D%D0%B3-cd-%D1%82%D1%8D%D0%B9-chinese-proficiency-test-syllabus\n",
      "https://internom.mn/%D0%B1%D0%B0%D1%80%D0%B0%D0%B0/9789997835970-%D0%B0%D1%80%D0%B0%D0%B2%D1%82%D1%8B%D0%BD-%D1%81%D0%B8%D1%81%D1%82%D0%B5%D0%BC%D1%82-%D0%BD%D0%B0%D0%BC%D0%B3%D2%AF%D0%B9-%D1%82%D3%A9%D1%80%D0%B8%D0%B9%D0%BD-%D1%82%D0%BE%D0%B3%D1%82%D0%BE%D0%BB%D1%86%D0%BE%D0%BE%D0%BD%D1%8B-%D0%B3%D0%B0%D0%B9%D1%85%D0%B0%D0%BC%D1%88%D0%B8%D0%B3%D1%82-%D1%82%D0%BE%D0%B3%D1%82%D0%BE%D0%BB%D1%86%D0%BE%D0%BE%D0%BD%D1%8B-%D0%B3%D0%B0%D0%B9%D1%85%D0%B0%D0%BC%D1%88%D0%B8%D0%B3%D1%82-%D1%87%D0%B0%D0%BD%D0%B0%D1%80%D1%83%D1%83%D0%B4\n",
      "https://internom.mn/%D0%B1%D0%B0%D1%80%D0%B0%D0%B0/9789997833723-%D1%82%D0%B0%D0%BB%D0%B0%D0%B0%D1%81-%D0%B4%D1%83%D1%83%D0%BB%D1%81%D0%B0%D0%BD-%D0%B4%D1%83%D1%83\n",
      "https://internom.mn/%D0%B1%D0%B0%D1%80%D0%B0%D0%B0/9789996242649-%D1%85%D3%A9%D1%85-%D1%82%D1%8D%D0%BD%D0%B3%D1%8D%D1%80%D0%B8%D0%B9%D0%BD-%D0%BE%D1%80%D0%BD%D0%BE%D0%BE%D1%80\n",
      "https://internom.mn/%D0%B1%D0%B0%D1%80%D0%B0%D0%B0/9789997352286-%D0%B4%D3%A9%D1%80%D3%A9%D0%B2%D0%B4%D1%8D%D1%85-%D0%B4%D0%B0%D0%B2%D0%B0%D0%BB%D0%B3%D0%B0%D0%B0\n",
      "https://internom.mn/%D0%B1%D0%B0%D1%80%D0%B0%D0%B0/9789997839190-%D1%81%D0%B0%D0%B9%D0%BD-%D0%BD%D0%BE%D1%91%D0%BD-%D1%85%D0%B0%D0%BD-%D0%B0%D0%B9%D0%BC%D0%B3%D0%B8%D0%B9%D0%BD-%D1%81%D1%8D%D1%86%D1%8D%D0%BD-%D1%87%D0%B8%D0%BD-%D0%B2%D0%B0%D0%BD%D0%B3%D0%B8%D0%B9%D0%BD-%D1%85%D0%BE%D1%88%D1%83%D1%83%D0%BD%D1%8B-%D1%82%D2%AF%D2%AF%D1%85-%D1%81%D0%BE%D1%91%D0%BB\n",
      "https://internom.mn/%D0%B1%D0%B0%D1%80%D0%B0%D0%B0/9789997860835-%D0%B1%D1%8F%D0%BC%D0%B1%D0%B0%D1%81%D2%AF%D1%80%D1%8D%D0%BD%D0%B3%D0%B8%D0%B9%D0%BD-%D1%85%D0%B8%D1%88%D0%B8%D0%B3%D1%81%D2%AF%D1%85\n",
      "https://internom.mn/%D0%B1%D0%B0%D1%80%D0%B0%D0%B0/9789996248658-%D1%85%D3%A9%D0%B4%D3%A9%D0%BB%D0%BC%D3%A9%D1%80-%D1%85%D3%A9%D0%BD%D0%B3%D3%A9%D0%B2%D1%87%D0%B8%D0%BB%D0%B6-%D0%B1%D2%AF%D1%82%D1%8D%D1%8D%D0%BC%D0%B6-%D0%B4%D1%8D%D1%8D%D1%88%D0%BB%D2%AF%D2%AF%D0%BB%D1%8D%D1%85-1000-%D1%81%D1%83%D0%BF%D0%B5%D1%80-%D0%B7%D3%A9%D0%B2%D0%BB%D3%A9%D0%B3%D3%A9%D3%A9\n",
      "https://internom.mn/%D0%B1%D0%B0%D1%80%D0%B0%D0%B0/9789997848079-%D1%81%D0%BE%D1%80%D0%B8%D0%BB%D1%82\n",
      "https://internom.mn/%D0%B1%D0%B0%D1%80%D0%B0%D0%B0/9789997809063-%D1%82%D0%BE%D0%B4-%D1%88%D0%B0%D1%80-%D0%BD%D0%B0%D0%B2%D1%87%D0%B8%D0%BD-%D0%B4%D1%8D%D1%8D%D0%B3%D2%AF%D2%AF%D1%80\n",
      "https://internom.mn/%D0%B1%D0%B0%D1%80%D0%B0%D0%B0/9789919950729-%D1%81%D0%BE%D0%BD%D1%81%D0%B4%D0%BE%D0%B3-%D2%AF%D0%BB%D0%B3%D1%8D%D1%80%D0%B8%D0%B9%D0%BD-%D0%BD%D0%BE%D0%BC-%D1%8D%D1%80%D1%85-%D1%86%D0%B0%D0%B3%D0%B0%D0%B0%D0%BD-%D0%B8%D1%88%D0%B8%D0%B3\n",
      "https://internom.mn/%D0%B1%D0%B0%D1%80%D0%B0%D0%B0/9789997816450-%D0%B1%D0%B8-%D1%8D%D1%85-%D0%BE%D1%80%D0%BD%D1%8B-%D1%8D%D0%BB%D1%87-%D0%B7%D0%B0%D1%85%D0%B8%D0%B0%D1%82%D0%B0%D0%B9\n",
      "https://internom.mn/%D0%B1%D0%B0%D1%80%D0%B0%D0%B0/9789997836649-%D0%B1%D1%83%D0%BB%D0%B3%D0%B0%D0%BD-%D0%BD%D1%83%D1%82%D0%B3%D0%B0%D0%B0%D1%80-%D0%B0%D1%8F%D0%BB%D0%B0%D1%85%D1%83%D0%B9\n"
     ]
    }
   ],
   "source": [
    "baseurl = 'https://internom.mn/search?type=book&param=&page='\n",
    "book_list = []\n",
    "for i in range(1, 2):\n",
    "    url = baseurl + str(i)\n",
    "    #print(url)\n",
    "    response = requests.get(url)\n",
    "    if response.status_code != 200:\n",
    "        print(response.status_code)\n",
    "        print('error ', url)\n",
    "        continue\n",
    "    #print(response.text)\n",
    "    soup = BeautifulSoup(response.text, \"html.parser\")\n",
    "    li_list = soup.find_all(\"div\", {\"class\": \"w-full md:col-span-6 lg:col-span-4 xl:col-span-3\"})\n",
    "    for li in li_list:\n",
    "        a = li.find('a')\n",
    "        drug_url = 'https://internom.mn' + a['href']\n",
    "        print(drug_url)\n",
    "        book_list.append(drug_url)"
   ]
  },
  {
   "cell_type": "code",
   "execution_count": 1,
   "metadata": {},
   "outputs": [],
   "source": [
    "def find_list(li_list, header):\n",
    "    ref = None\n",
    "    for li in li_list:\n",
    "        text = li.text.strip()\n",
    "        if text.startswith(header):\n",
    "            ref = text[len(header):].strip()\n",
    "            break\n",
    "    return ref"
   ]
  },
  {
   "cell_type": "code",
   "execution_count": 9,
   "metadata": {},
   "outputs": [
    {
     "name": "stdout",
     "output_type": "stream",
     "text": [
      "Хараасгай мэргэн (0) | Гантогтох Г | Ардын аман зохиол | 2010 | 254 нүүр | Зөөлөн хавтастай | Монгол\n",
      "Гадаадын утга зохиолын өгүүллүүд-9 | Жиком Пресс хэвлэлийн газар | Утга зохиолын шүүмж, судлал | 2016 | 267 нүүр | Зөөлөн хавтастай | Монгол\n",
      "Алив найзуудаа гитараа тоглоцгооё (0) | Гитарын сурах бичиг | Хөгжим | 2012 | 76 нүүр | Зөөлөн хавтастай | Монгол\n",
      "Он жилүүдийн дурсамж | Сэлэнгэ Пресс хэвлэлийн газар | Намтар, Дурсамж | 2017 | 272 нүүр | Зөөлөн хавтастай | Монгол\n",
      "Замбуулин дуусах болоогүй | Сарантуяа Л | Түүхэн зохиол | 2014 | 452 нүүр | Зөөлөн хавтастай | Монгол\n",
      "Өсвөрийн шатарчдын Ази тивийн аварга шалгаруулах тэмцээн: 2016 оны 4 сарын 5-15 | Нэвтрэх | Үгийн сүлжээ, оюуны сорил, тоглоом | 2016 | 104 нүүр | Хатуу хавтастай | Монгол\n",
      "Тухайн жилийн газар зохион байгуулалтын төлөвлөгөө боловсруулах арга зүй | Нэвтрэх | Аж үйлдвэр, технологи, ХАА | 2018 | 126 нүүр | Зөөлөн хавтастай | Монгол\n",
      "Улаан баринтагтай судар | Нэвтрэх | Уран зохиол | 2018 | 164 нүүр | Зөөлөн хавтастай | Монгол\n",
      "МУЭИС-ийн Эрдэм шинжилгээний бичиг | Нэвтрэх | Боловсрол судлал | 2018 | 212 нүүр | Зөөлөн хавтастай | Монгол\n",
      "Үнсгэлжин | Бяцхан театр | Үлгэрийн ном | 2018 | 8 нүүр | Хатуу хавтастай | Монгол\n"
     ]
    },
    {
     "ename": "KeyboardInterrupt",
     "evalue": "",
     "output_type": "error",
     "traceback": [
      "\u001b[1;31m---------------------------------------------------------------------------\u001b[0m",
      "\u001b[1;31mKeyboardInterrupt\u001b[0m                         Traceback (most recent call last)",
      "Cell \u001b[1;32mIn[9], line 5\u001b[0m\n\u001b[0;32m      3\u001b[0m it \u001b[39m+\u001b[39m\u001b[39m=\u001b[39m \u001b[39m1\u001b[39m\n\u001b[0;32m      4\u001b[0m \u001b[39m#print(url)\u001b[39;00m\n\u001b[1;32m----> 5\u001b[0m response \u001b[39m=\u001b[39m requests\u001b[39m.\u001b[39;49mget(url)\n\u001b[0;32m      6\u001b[0m \u001b[39mif\u001b[39;00m response\u001b[39m.\u001b[39mstatus_code \u001b[39m!=\u001b[39m \u001b[39m200\u001b[39m:\n\u001b[0;32m      7\u001b[0m     \u001b[39m#print(response.status_code)\u001b[39;00m\n\u001b[0;32m      8\u001b[0m     \u001b[39mprint\u001b[39m(\u001b[39m'\u001b[39m\u001b[39merror \u001b[39m\u001b[39m'\u001b[39m, url)\n",
      "File \u001b[1;32mc:\\Users\\Gausar\\AppData\\Local\\Programs\\Python\\Python311\\Lib\\site-packages\\requests\\api.py:73\u001b[0m, in \u001b[0;36mget\u001b[1;34m(url, params, **kwargs)\u001b[0m\n\u001b[0;32m     62\u001b[0m \u001b[39mdef\u001b[39;00m \u001b[39mget\u001b[39m(url, params\u001b[39m=\u001b[39m\u001b[39mNone\u001b[39;00m, \u001b[39m*\u001b[39m\u001b[39m*\u001b[39mkwargs):\n\u001b[0;32m     63\u001b[0m \u001b[39m    \u001b[39m\u001b[39mr\u001b[39m\u001b[39m\"\"\"Sends a GET request.\u001b[39;00m\n\u001b[0;32m     64\u001b[0m \n\u001b[0;32m     65\u001b[0m \u001b[39m    :param url: URL for the new :class:`Request` object.\u001b[39;00m\n\u001b[1;32m   (...)\u001b[0m\n\u001b[0;32m     70\u001b[0m \u001b[39m    :rtype: requests.Response\u001b[39;00m\n\u001b[0;32m     71\u001b[0m \u001b[39m    \"\"\"\u001b[39;00m\n\u001b[1;32m---> 73\u001b[0m     \u001b[39mreturn\u001b[39;00m request(\u001b[39m\"\u001b[39;49m\u001b[39mget\u001b[39;49m\u001b[39m\"\u001b[39;49m, url, params\u001b[39m=\u001b[39;49mparams, \u001b[39m*\u001b[39;49m\u001b[39m*\u001b[39;49mkwargs)\n",
      "File \u001b[1;32mc:\\Users\\Gausar\\AppData\\Local\\Programs\\Python\\Python311\\Lib\\site-packages\\requests\\api.py:59\u001b[0m, in \u001b[0;36mrequest\u001b[1;34m(method, url, **kwargs)\u001b[0m\n\u001b[0;32m     55\u001b[0m \u001b[39m# By using the 'with' statement we are sure the session is closed, thus we\u001b[39;00m\n\u001b[0;32m     56\u001b[0m \u001b[39m# avoid leaving sockets open which can trigger a ResourceWarning in some\u001b[39;00m\n\u001b[0;32m     57\u001b[0m \u001b[39m# cases, and look like a memory leak in others.\u001b[39;00m\n\u001b[0;32m     58\u001b[0m \u001b[39mwith\u001b[39;00m sessions\u001b[39m.\u001b[39mSession() \u001b[39mas\u001b[39;00m session:\n\u001b[1;32m---> 59\u001b[0m     \u001b[39mreturn\u001b[39;00m session\u001b[39m.\u001b[39;49mrequest(method\u001b[39m=\u001b[39;49mmethod, url\u001b[39m=\u001b[39;49murl, \u001b[39m*\u001b[39;49m\u001b[39m*\u001b[39;49mkwargs)\n",
      "File \u001b[1;32mc:\\Users\\Gausar\\AppData\\Local\\Programs\\Python\\Python311\\Lib\\site-packages\\requests\\sessions.py:589\u001b[0m, in \u001b[0;36mSession.request\u001b[1;34m(self, method, url, params, data, headers, cookies, files, auth, timeout, allow_redirects, proxies, hooks, stream, verify, cert, json)\u001b[0m\n\u001b[0;32m    584\u001b[0m send_kwargs \u001b[39m=\u001b[39m {\n\u001b[0;32m    585\u001b[0m     \u001b[39m\"\u001b[39m\u001b[39mtimeout\u001b[39m\u001b[39m\"\u001b[39m: timeout,\n\u001b[0;32m    586\u001b[0m     \u001b[39m\"\u001b[39m\u001b[39mallow_redirects\u001b[39m\u001b[39m\"\u001b[39m: allow_redirects,\n\u001b[0;32m    587\u001b[0m }\n\u001b[0;32m    588\u001b[0m send_kwargs\u001b[39m.\u001b[39mupdate(settings)\n\u001b[1;32m--> 589\u001b[0m resp \u001b[39m=\u001b[39m \u001b[39mself\u001b[39;49m\u001b[39m.\u001b[39;49msend(prep, \u001b[39m*\u001b[39;49m\u001b[39m*\u001b[39;49msend_kwargs)\n\u001b[0;32m    591\u001b[0m \u001b[39mreturn\u001b[39;00m resp\n",
      "File \u001b[1;32mc:\\Users\\Gausar\\AppData\\Local\\Programs\\Python\\Python311\\Lib\\site-packages\\requests\\sessions.py:703\u001b[0m, in \u001b[0;36mSession.send\u001b[1;34m(self, request, **kwargs)\u001b[0m\n\u001b[0;32m    700\u001b[0m start \u001b[39m=\u001b[39m preferred_clock()\n\u001b[0;32m    702\u001b[0m \u001b[39m# Send the request\u001b[39;00m\n\u001b[1;32m--> 703\u001b[0m r \u001b[39m=\u001b[39m adapter\u001b[39m.\u001b[39;49msend(request, \u001b[39m*\u001b[39;49m\u001b[39m*\u001b[39;49mkwargs)\n\u001b[0;32m    705\u001b[0m \u001b[39m# Total elapsed time of the request (approximately)\u001b[39;00m\n\u001b[0;32m    706\u001b[0m elapsed \u001b[39m=\u001b[39m preferred_clock() \u001b[39m-\u001b[39m start\n",
      "File \u001b[1;32mc:\\Users\\Gausar\\AppData\\Local\\Programs\\Python\\Python311\\Lib\\site-packages\\requests\\adapters.py:486\u001b[0m, in \u001b[0;36mHTTPAdapter.send\u001b[1;34m(self, request, stream, timeout, verify, cert, proxies)\u001b[0m\n\u001b[0;32m    483\u001b[0m     timeout \u001b[39m=\u001b[39m TimeoutSauce(connect\u001b[39m=\u001b[39mtimeout, read\u001b[39m=\u001b[39mtimeout)\n\u001b[0;32m    485\u001b[0m \u001b[39mtry\u001b[39;00m:\n\u001b[1;32m--> 486\u001b[0m     resp \u001b[39m=\u001b[39m conn\u001b[39m.\u001b[39;49murlopen(\n\u001b[0;32m    487\u001b[0m         method\u001b[39m=\u001b[39;49mrequest\u001b[39m.\u001b[39;49mmethod,\n\u001b[0;32m    488\u001b[0m         url\u001b[39m=\u001b[39;49murl,\n\u001b[0;32m    489\u001b[0m         body\u001b[39m=\u001b[39;49mrequest\u001b[39m.\u001b[39;49mbody,\n\u001b[0;32m    490\u001b[0m         headers\u001b[39m=\u001b[39;49mrequest\u001b[39m.\u001b[39;49mheaders,\n\u001b[0;32m    491\u001b[0m         redirect\u001b[39m=\u001b[39;49m\u001b[39mFalse\u001b[39;49;00m,\n\u001b[0;32m    492\u001b[0m         assert_same_host\u001b[39m=\u001b[39;49m\u001b[39mFalse\u001b[39;49;00m,\n\u001b[0;32m    493\u001b[0m         preload_content\u001b[39m=\u001b[39;49m\u001b[39mFalse\u001b[39;49;00m,\n\u001b[0;32m    494\u001b[0m         decode_content\u001b[39m=\u001b[39;49m\u001b[39mFalse\u001b[39;49;00m,\n\u001b[0;32m    495\u001b[0m         retries\u001b[39m=\u001b[39;49m\u001b[39mself\u001b[39;49m\u001b[39m.\u001b[39;49mmax_retries,\n\u001b[0;32m    496\u001b[0m         timeout\u001b[39m=\u001b[39;49mtimeout,\n\u001b[0;32m    497\u001b[0m         chunked\u001b[39m=\u001b[39;49mchunked,\n\u001b[0;32m    498\u001b[0m     )\n\u001b[0;32m    500\u001b[0m \u001b[39mexcept\u001b[39;00m (ProtocolError, \u001b[39mOSError\u001b[39;00m) \u001b[39mas\u001b[39;00m err:\n\u001b[0;32m    501\u001b[0m     \u001b[39mraise\u001b[39;00m \u001b[39mConnectionError\u001b[39;00m(err, request\u001b[39m=\u001b[39mrequest)\n",
      "File \u001b[1;32mc:\\Users\\Gausar\\AppData\\Local\\Programs\\Python\\Python311\\Lib\\site-packages\\urllib3\\connectionpool.py:790\u001b[0m, in \u001b[0;36mHTTPConnectionPool.urlopen\u001b[1;34m(self, method, url, body, headers, retries, redirect, assert_same_host, timeout, pool_timeout, release_conn, chunked, body_pos, preload_content, decode_content, **response_kw)\u001b[0m\n\u001b[0;32m    787\u001b[0m response_conn \u001b[39m=\u001b[39m conn \u001b[39mif\u001b[39;00m \u001b[39mnot\u001b[39;00m release_conn \u001b[39melse\u001b[39;00m \u001b[39mNone\u001b[39;00m\n\u001b[0;32m    789\u001b[0m \u001b[39m# Make the request on the HTTPConnection object\u001b[39;00m\n\u001b[1;32m--> 790\u001b[0m response \u001b[39m=\u001b[39m \u001b[39mself\u001b[39;49m\u001b[39m.\u001b[39;49m_make_request(\n\u001b[0;32m    791\u001b[0m     conn,\n\u001b[0;32m    792\u001b[0m     method,\n\u001b[0;32m    793\u001b[0m     url,\n\u001b[0;32m    794\u001b[0m     timeout\u001b[39m=\u001b[39;49mtimeout_obj,\n\u001b[0;32m    795\u001b[0m     body\u001b[39m=\u001b[39;49mbody,\n\u001b[0;32m    796\u001b[0m     headers\u001b[39m=\u001b[39;49mheaders,\n\u001b[0;32m    797\u001b[0m     chunked\u001b[39m=\u001b[39;49mchunked,\n\u001b[0;32m    798\u001b[0m     retries\u001b[39m=\u001b[39;49mretries,\n\u001b[0;32m    799\u001b[0m     response_conn\u001b[39m=\u001b[39;49mresponse_conn,\n\u001b[0;32m    800\u001b[0m     preload_content\u001b[39m=\u001b[39;49mpreload_content,\n\u001b[0;32m    801\u001b[0m     decode_content\u001b[39m=\u001b[39;49mdecode_content,\n\u001b[0;32m    802\u001b[0m     \u001b[39m*\u001b[39;49m\u001b[39m*\u001b[39;49mresponse_kw,\n\u001b[0;32m    803\u001b[0m )\n\u001b[0;32m    805\u001b[0m \u001b[39m# Everything went great!\u001b[39;00m\n\u001b[0;32m    806\u001b[0m clean_exit \u001b[39m=\u001b[39m \u001b[39mTrue\u001b[39;00m\n",
      "File \u001b[1;32mc:\\Users\\Gausar\\AppData\\Local\\Programs\\Python\\Python311\\Lib\\site-packages\\urllib3\\connectionpool.py:536\u001b[0m, in \u001b[0;36mHTTPConnectionPool._make_request\u001b[1;34m(self, conn, method, url, body, headers, retries, timeout, chunked, response_conn, preload_content, decode_content, enforce_content_length)\u001b[0m\n\u001b[0;32m    534\u001b[0m \u001b[39m# Receive the response from the server\u001b[39;00m\n\u001b[0;32m    535\u001b[0m \u001b[39mtry\u001b[39;00m:\n\u001b[1;32m--> 536\u001b[0m     response \u001b[39m=\u001b[39m conn\u001b[39m.\u001b[39;49mgetresponse()\n\u001b[0;32m    537\u001b[0m \u001b[39mexcept\u001b[39;00m (BaseSSLError, \u001b[39mOSError\u001b[39;00m) \u001b[39mas\u001b[39;00m e:\n\u001b[0;32m    538\u001b[0m     \u001b[39mself\u001b[39m\u001b[39m.\u001b[39m_raise_timeout(err\u001b[39m=\u001b[39me, url\u001b[39m=\u001b[39murl, timeout_value\u001b[39m=\u001b[39mread_timeout)\n",
      "File \u001b[1;32mc:\\Users\\Gausar\\AppData\\Local\\Programs\\Python\\Python311\\Lib\\site-packages\\urllib3\\connection.py:454\u001b[0m, in \u001b[0;36mHTTPConnection.getresponse\u001b[1;34m(self)\u001b[0m\n\u001b[0;32m    451\u001b[0m \u001b[39mfrom\u001b[39;00m \u001b[39m.\u001b[39;00m\u001b[39mresponse\u001b[39;00m \u001b[39mimport\u001b[39;00m HTTPResponse\n\u001b[0;32m    453\u001b[0m \u001b[39m# Get the response from http.client.HTTPConnection\u001b[39;00m\n\u001b[1;32m--> 454\u001b[0m httplib_response \u001b[39m=\u001b[39m \u001b[39msuper\u001b[39;49m()\u001b[39m.\u001b[39;49mgetresponse()\n\u001b[0;32m    456\u001b[0m \u001b[39mtry\u001b[39;00m:\n\u001b[0;32m    457\u001b[0m     assert_header_parsing(httplib_response\u001b[39m.\u001b[39mmsg)\n",
      "File \u001b[1;32mc:\\Users\\Gausar\\AppData\\Local\\Programs\\Python\\Python311\\Lib\\http\\client.py:1378\u001b[0m, in \u001b[0;36mHTTPConnection.getresponse\u001b[1;34m(self)\u001b[0m\n\u001b[0;32m   1376\u001b[0m \u001b[39mtry\u001b[39;00m:\n\u001b[0;32m   1377\u001b[0m     \u001b[39mtry\u001b[39;00m:\n\u001b[1;32m-> 1378\u001b[0m         response\u001b[39m.\u001b[39;49mbegin()\n\u001b[0;32m   1379\u001b[0m     \u001b[39mexcept\u001b[39;00m \u001b[39mConnectionError\u001b[39;00m:\n\u001b[0;32m   1380\u001b[0m         \u001b[39mself\u001b[39m\u001b[39m.\u001b[39mclose()\n",
      "File \u001b[1;32mc:\\Users\\Gausar\\AppData\\Local\\Programs\\Python\\Python311\\Lib\\http\\client.py:318\u001b[0m, in \u001b[0;36mHTTPResponse.begin\u001b[1;34m(self)\u001b[0m\n\u001b[0;32m    316\u001b[0m \u001b[39m# read until we get a non-100 response\u001b[39;00m\n\u001b[0;32m    317\u001b[0m \u001b[39mwhile\u001b[39;00m \u001b[39mTrue\u001b[39;00m:\n\u001b[1;32m--> 318\u001b[0m     version, status, reason \u001b[39m=\u001b[39m \u001b[39mself\u001b[39;49m\u001b[39m.\u001b[39;49m_read_status()\n\u001b[0;32m    319\u001b[0m     \u001b[39mif\u001b[39;00m status \u001b[39m!=\u001b[39m CONTINUE:\n\u001b[0;32m    320\u001b[0m         \u001b[39mbreak\u001b[39;00m\n",
      "File \u001b[1;32mc:\\Users\\Gausar\\AppData\\Local\\Programs\\Python\\Python311\\Lib\\http\\client.py:279\u001b[0m, in \u001b[0;36mHTTPResponse._read_status\u001b[1;34m(self)\u001b[0m\n\u001b[0;32m    278\u001b[0m \u001b[39mdef\u001b[39;00m \u001b[39m_read_status\u001b[39m(\u001b[39mself\u001b[39m):\n\u001b[1;32m--> 279\u001b[0m     line \u001b[39m=\u001b[39m \u001b[39mstr\u001b[39m(\u001b[39mself\u001b[39m\u001b[39m.\u001b[39mfp\u001b[39m.\u001b[39mreadline(_MAXLINE \u001b[39m+\u001b[39m \u001b[39m1\u001b[39m), \u001b[39m\"\u001b[39m\u001b[39miso-8859-1\u001b[39m\u001b[39m\"\u001b[39m)\n\u001b[0;32m    280\u001b[0m     \u001b[39mif\u001b[39;00m \u001b[39mlen\u001b[39m(line) \u001b[39m>\u001b[39m _MAXLINE:\n\u001b[0;32m    281\u001b[0m         \u001b[39mraise\u001b[39;00m LineTooLong(\u001b[39m\"\u001b[39m\u001b[39mstatus line\u001b[39m\u001b[39m\"\u001b[39m)\n",
      "File \u001b[1;32mc:\\Users\\Gausar\\AppData\\Local\\Programs\\Python\\Python311\\Lib\\socket.py:706\u001b[0m, in \u001b[0;36mSocketIO.readinto\u001b[1;34m(self, b)\u001b[0m\n\u001b[0;32m    704\u001b[0m \u001b[39mwhile\u001b[39;00m \u001b[39mTrue\u001b[39;00m:\n\u001b[0;32m    705\u001b[0m     \u001b[39mtry\u001b[39;00m:\n\u001b[1;32m--> 706\u001b[0m         \u001b[39mreturn\u001b[39;00m \u001b[39mself\u001b[39;49m\u001b[39m.\u001b[39;49m_sock\u001b[39m.\u001b[39;49mrecv_into(b)\n\u001b[0;32m    707\u001b[0m     \u001b[39mexcept\u001b[39;00m timeout:\n\u001b[0;32m    708\u001b[0m         \u001b[39mself\u001b[39m\u001b[39m.\u001b[39m_timeout_occurred \u001b[39m=\u001b[39m \u001b[39mTrue\u001b[39;00m\n",
      "File \u001b[1;32mc:\\Users\\Gausar\\AppData\\Local\\Programs\\Python\\Python311\\Lib\\ssl.py:1278\u001b[0m, in \u001b[0;36mSSLSocket.recv_into\u001b[1;34m(self, buffer, nbytes, flags)\u001b[0m\n\u001b[0;32m   1274\u001b[0m     \u001b[39mif\u001b[39;00m flags \u001b[39m!=\u001b[39m \u001b[39m0\u001b[39m:\n\u001b[0;32m   1275\u001b[0m         \u001b[39mraise\u001b[39;00m \u001b[39mValueError\u001b[39;00m(\n\u001b[0;32m   1276\u001b[0m           \u001b[39m\"\u001b[39m\u001b[39mnon-zero flags not allowed in calls to recv_into() on \u001b[39m\u001b[39m%s\u001b[39;00m\u001b[39m\"\u001b[39m \u001b[39m%\u001b[39m\n\u001b[0;32m   1277\u001b[0m           \u001b[39mself\u001b[39m\u001b[39m.\u001b[39m\u001b[39m__class__\u001b[39m)\n\u001b[1;32m-> 1278\u001b[0m     \u001b[39mreturn\u001b[39;00m \u001b[39mself\u001b[39;49m\u001b[39m.\u001b[39;49mread(nbytes, buffer)\n\u001b[0;32m   1279\u001b[0m \u001b[39melse\u001b[39;00m:\n\u001b[0;32m   1280\u001b[0m     \u001b[39mreturn\u001b[39;00m \u001b[39msuper\u001b[39m()\u001b[39m.\u001b[39mrecv_into(buffer, nbytes, flags)\n",
      "File \u001b[1;32mc:\\Users\\Gausar\\AppData\\Local\\Programs\\Python\\Python311\\Lib\\ssl.py:1134\u001b[0m, in \u001b[0;36mSSLSocket.read\u001b[1;34m(self, len, buffer)\u001b[0m\n\u001b[0;32m   1132\u001b[0m \u001b[39mtry\u001b[39;00m:\n\u001b[0;32m   1133\u001b[0m     \u001b[39mif\u001b[39;00m buffer \u001b[39mis\u001b[39;00m \u001b[39mnot\u001b[39;00m \u001b[39mNone\u001b[39;00m:\n\u001b[1;32m-> 1134\u001b[0m         \u001b[39mreturn\u001b[39;00m \u001b[39mself\u001b[39;49m\u001b[39m.\u001b[39;49m_sslobj\u001b[39m.\u001b[39;49mread(\u001b[39mlen\u001b[39;49m, buffer)\n\u001b[0;32m   1135\u001b[0m     \u001b[39melse\u001b[39;00m:\n\u001b[0;32m   1136\u001b[0m         \u001b[39mreturn\u001b[39;00m \u001b[39mself\u001b[39m\u001b[39m.\u001b[39m_sslobj\u001b[39m.\u001b[39mread(\u001b[39mlen\u001b[39m)\n",
      "\u001b[1;31mKeyboardInterrupt\u001b[0m: "
     ]
    }
   ],
   "source": [
    "it  = 0\n",
    "for url in book_list:\n",
    "    it += 1\n",
    "    #print(url)\n",
    "    response = requests.get(url)\n",
    "    if response.status_code != 200:\n",
    "        #print(response.status_code)\n",
    "        print('error ', url)\n",
    "        continue\n",
    "    soup = BeautifulSoup(response.text, \"html.parser\")\n",
    "    #price = soup.find(\"div\", {\"class\": \"font-medium md:text-lg\"}).text.strip()\n",
    "    author = soup.find(\"a\", {\"class\": \"text-skin-link\"}).text.strip()\n",
    "    title = soup.find(\"h1\", {\"class\" : \"text-lg font-medium sm:text-xl\"}).text.strip()\n",
    "    category = soup.find(\"div\", {\"class\": \"infobar_infoCaption__hXgqI\"}).text.strip()\n",
    "    pub_year = soup.find(\"div\", {\"class\": \"whitespace-nowrap text-lg font-bold tracking-wide mt-2 mb-0.5\"}).text.strip()\n",
    "    li_class = soup.find_all(\"li\")\n",
    "    page_num = find_list(li_class, \"Нүүрний тоо : \")\n",
    "    format = find_list(li_class, \"Формат : \")\n",
    "    language = find_list(li_class, \"Бүтээлийн хэл : \")\n",
    "    print(title,\"|\", author, \"|\", category, \"|\", pub_year, \"|\", page_num, \"|\", format, \"|\", language)\n",
    "    \n"
   ]
  },
  {
   "cell_type": "code",
   "execution_count": 9,
   "metadata": {},
   "outputs": [],
   "source": [
    "    "
   ]
  }
 ],
 "metadata": {
  "kernelspec": {
   "display_name": "Python 3",
   "language": "python",
   "name": "python3"
  },
  "language_info": {
   "codemirror_mode": {
    "name": "ipython",
    "version": 3
   },
   "file_extension": ".py",
   "mimetype": "text/x-python",
   "name": "python",
   "nbconvert_exporter": "python",
   "pygments_lexer": "ipython3",
   "version": "3.11.4"
  },
  "orig_nbformat": 4
 },
 "nbformat": 4,
 "nbformat_minor": 2
}
