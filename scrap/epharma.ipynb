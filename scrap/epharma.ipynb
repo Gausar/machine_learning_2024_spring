{
 "cells": [
  {
   "cell_type": "code",
   "execution_count": 1,
   "metadata": {},
   "outputs": [],
   "source": [
    "import requests\n",
    "import urllib.request\n",
    "from bs4 import BeautifulSoup\n",
    "import pandas as pd"
   ]
  },
  {
   "cell_type": "code",
   "execution_count": null,
   "metadata": {},
   "outputs": [],
   "source": [
    "class Drugs:\n",
    "    def __init__(self, title_, type_, price_, curr_value_, sale_, quantity_, code_, category_):\n",
    "        self.title = title_\n",
    "        self.type = type_\n",
    "        self.price = price_\n",
    "        self.sale = sale_\n",
    "        self.quantity = quantity_\n",
    "        self.code = code_\n",
    "        self.category = category_\n",
    "        self.curr_value = curr_value_"
   ]
  },
  {
   "cell_type": "code",
   "execution_count": null,
   "metadata": {},
   "outputs": [],
   "source": [
    "baseurl = 'https://onlinepharmacy.mn/shop/page/'\n",
    "drug_list = []\n",
    "for i in range(1, 10):\n",
    "    url = baseurl + str(i)\n",
    "    print(url)\n",
    "    response = requests.get(url)\n",
    "    if response.status_code != 200:\n",
    "        print(response.status_code)\n",
    "        print('error ', url)\n",
    "        continue\n",
    "    #print(response.text)\n",
    "    soup = BeautifulSoup(response.text, \"html.parser\")\n",
    "    li_list = soup.find_all(\"h1\", {\"class\": \"te_product_name\"})\n",
    "    for li in li_list:\n",
    "        a = li.find('a')\n",
    "        drug_url = a['href']\n",
    "        print(drug_url)\n",
    "        drug_list.append(drug_url)"
   ]
  },
  {
   "cell_type": "code",
   "execution_count": null,
   "metadata": {},
   "outputs": [],
   "source": [
    "baseurl = 'https://onlinepharmacy.mn/shop/page/'\n",
    "drug_list = []\n",
    "for i in range(1, 3):\n",
    "    url = baseurl + str(i)\n",
    "    #print(url)\n",
    "    response = requests.get(url)\n",
    "    if response.status_code != 200:\n",
    "        print(response.status_code)\n",
    "        print('error ', url)\n",
    "        continue\n",
    "    #print(response.text)\n",
    "    soup = BeautifulSoup(response.text, \"html.parser\")\n",
    "    li_list = soup.find_all(\"div\", {\"class\": \"o_wsale_product_grid_wrapper\"})\n",
    "    for li in li_list:\n",
    "        a = li.find('a')\n",
    "        drug_url = 'https://onlinepharmacy.mn' + a['href']\n",
    "        print(drug_url)\n",
    "        drug_list.append(drug_url)"
   ]
  },
  {
   "cell_type": "code",
   "execution_count": null,
   "metadata": {},
   "outputs": [],
   "source": [
    "len(drug_list)\n",
    "def findFeature(li_list, header):\n",
    "    ref = None\n",
    "    for li in li_list:\n",
    "        text = li.text.strip()\n",
    "        if text.startswith(header):\n",
    "            ref = text[len(header):].strip()\n",
    "            break\n",
    "    return ref"
   ]
  },
  {
   "cell_type": "code",
   "execution_count": null,
   "metadata": {},
   "outputs": [],
   "source": [
    "drug_data = []\n",
    "it  = 0\n",
    "for url in drug_list:\n",
    "    it += 1\n",
    "    #print(url)\n",
    "    response = requests.get(url)\n",
    "    if response.status_code != 200:\n",
    "        #print(response.status_code)\n",
    "        print('error ', url)\n",
    "        continue\n",
    "    soup = BeautifulSoup(response.text, \"html.parser\")\n",
    "    title = soup.find(\"h1\", {\"class\": \"te_product_name\"}).text.strip()\n",
    "    type = soup.find(\"div\", {\"class\": \"p-1\"})\n",
    "    price = soup.find(\"span\", {\"class\": \"oe_currency_value\"}).text.strip()\n",
    "    curr_value = soup.find(\"span\", {\"class\": \"text-danger\"}).text.strip()\n",
    "    sale = soup.find(\"div\", {\"class\": \"te_percentage\"}).text.strip()\n",
    "    #sale = str(sale.split(' Off')[0])\n",
    "    quantity = soup.find(\"div\", {\"class\": \"availability_messages\"}).text.strip()\n",
    "    code = soup.find(\"div\", {\"class\": \"js_sku_div\"}).text.strip()\n",
    "    li_class = soup.find_all(\"li\")\n",
    "    category = findFeature(li_class, \"Барааны ангилал:\")\n",
    "    #category = soup.find(\"li\", {\"class\": \"te_p_categ_item\"}).text.strip()\n",
    "\n",
    "    #print(title, price, curr_value, sale, quantity, code, category)\n",
    "    drug = Drugs(title, price, curr_value, sale, quantity, code, category)\n",
    "    drug_data.append(drug.__dict__)\n",
    "    \n",
    "df = pd.DataFrame(drug_data)\n",
    "df.to_csv('drug_info.tsv', sep=\"\\t\", index=False)"
   ]
  }
 ],
 "metadata": {
  "kernelspec": {
   "display_name": "Python 3",
   "language": "python",
   "name": "python3"
  },
  "language_info": {
   "codemirror_mode": {
    "name": "ipython",
    "version": 3
   },
   "file_extension": ".py",
   "mimetype": "text/x-python",
   "name": "python",
   "nbconvert_exporter": "python",
   "pygments_lexer": "ipython3",
   "version": "3.11.4"
  },
  "orig_nbformat": 4
 },
 "nbformat": 4,
 "nbformat_minor": 2
}
