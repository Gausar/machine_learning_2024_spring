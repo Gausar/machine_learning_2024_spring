{
 "cells": [
  {
   "cell_type": "code",
   "execution_count": 1,
   "metadata": {},
   "outputs": [],
   "source": [
    "import requests\n",
    "import urllib.request\n",
    "from bs4 import BeautifulSoup\n",
    "import pandas as pd"
   ]
  },
  {
   "cell_type": "code",
   "execution_count": 2,
   "metadata": {},
   "outputs": [],
   "source": [
    "class Drugs:\n",
    "    def __init__(self, title_, type_, price_, curr_value_, sale_, quantity_, code_, category_):\n",
    "        self.title = title_\n",
    "        self.type = type_\n",
    "        self.price = price_\n",
    "        self.sale = sale_\n",
    "        self.quantity = quantity_\n",
    "        self.code = code_\n",
    "        self.category = category_\n",
    "        self.curr_value = curr_value_"
   ]
  },
  {
   "cell_type": "code",
   "execution_count": 3,
   "metadata": {},
   "outputs": [
    {
     "name": "stdout",
     "output_type": "stream",
     "text": [
      "https://onlinepharmacy.mn/shop/page/1\n",
      "https://onlinepharmacy.mn/shop/page/2\n",
      "https://onlinepharmacy.mn/shop/page/3\n",
      "https://onlinepharmacy.mn/shop/page/4\n",
      "https://onlinepharmacy.mn/shop/page/5\n",
      "https://onlinepharmacy.mn/shop/page/6\n",
      "https://onlinepharmacy.mn/shop/page/7\n",
      "https://onlinepharmacy.mn/shop/page/8\n",
      "https://onlinepharmacy.mn/shop/page/9\n"
     ]
    }
   ],
   "source": [
    "baseurl = 'https://onlinepharmacy.mn/shop/page/'\n",
    "drug_list = []\n",
    "for i in range(1, 10):\n",
    "    url = baseurl + str(i)\n",
    "    print(url)\n",
    "    response = requests.get(url)\n",
    "    if response.status_code != 200:\n",
    "        print(response.status_code)\n",
    "        print('error ', url)\n",
    "        continue\n",
    "    #print(response.text)\n",
    "    soup = BeautifulSoup(response.text, \"html.parser\")\n",
    "    li_list = soup.find_all(\"h1\", {\"class\": \"te_product_name\"})\n",
    "    for li in li_list:\n",
    "        a = li.find('a')\n",
    "        drug_url = a['href']\n",
    "        print(drug_url)\n",
    "        drug_list.append(drug_url)"
   ]
  },
  {
   "cell_type": "code",
   "execution_count": 4,
   "metadata": {},
   "outputs": [
    {
     "name": "stdout",
     "output_type": "stream",
     "text": [
      "https://onlinepharmacy.mn/shop/200559-jamieson-vit-c-500mg-chew-tangy-orange-no120-jamieson-laboratories-ltd-can-66433\n",
      "https://onlinepharmacy.mn/shop/103206-no10-danhson-bg-exclusive-danhson-bg-ltd-65921\n",
      "https://onlinepharmacy.mn/shop/102890-no18-danhson-bg-exclusive-danhson-bg-ltd-62716\n",
      "https://onlinepharmacy.mn/shop/200483-jamieson-100-complete-multivitamin-men-no90-jamieson-laboratories-ltd-can-57449\n",
      "https://onlinepharmacy.mn/shop/200482-jamieson-100-complete-multivitamin-men-50-no90-jamieson-laboratories-ltd-can-57448\n",
      "https://onlinepharmacy.mn/shop/101612-100-exclusive-cometh-ita-52851\n",
      "https://onlinepharmacy.mn/shop/101036-no60-exclusive-korea-eundan-pnp-co-ltd-kor-49987\n",
      "https://onlinepharmacy.mn/shop/200010-jamieson-collagen-anti-wrinkle-no60-exclusive-jamieson-laboratories-ltd-can-43526\n",
      "https://onlinepharmacy.mn/shop/200493-jamieson-gorgeous-hair-no60-jamieson-laboratories-ltd-can-57460\n",
      "https://onlinepharmacy.mn/shop/502573-global-white-global-dent-llc-exclusive-global-dent-llc-63523\n",
      "https://onlinepharmacy.mn/shop/502572-global-white-global-dent-llc-exclusive-global-dent-llc-63522\n",
      "https://onlinepharmacy.mn/shop/502179-bionike-defence-cleansing-milk-exclusive-icim-international-s-r-l-it-58801\n",
      "https://onlinepharmacy.mn/shop/200492-jamieson-ginkgo-biloba-no60-30-jamieson-laboratories-ltd-can-57453\n",
      "https://onlinepharmacy.mn/shop/300407-5-exclusive-pt-bu-kwang-medical-12-50450\n",
      "https://onlinepharmacy.mn/shop/100875-12-5-exclusive-cometh-ita-49783\n",
      "https://onlinepharmacy.mn/shop/100855-no1-exclusive-rp-international-ind-49748\n",
      "https://onlinepharmacy.mn/shop/100235-10-no24-yungjin-pharm-exclusive-yungjin-pharm-46343\n",
      "https://onlinepharmacy.mn/shop/100089-120-no40-exclusive-rp-international-ind-45973\n",
      "https://onlinepharmacy.mn/shop/100036-15-exclusive-clear-medical-llc-jap-45879\n",
      "https://onlinepharmacy.mn/shop/300046-pic-bpm-literapid-exclusive-pikdare-s-p-a-ita-43685\n",
      "https://onlinepharmacy.mn/shop/200014-jamieson-3-700-no100-exclusive-jamieson-laboratories-ltd-can-43530\n",
      "https://onlinepharmacy.mn/shop/200011-jamieson-cranberry-500-no60-exclusive-jamieson-laboratories-ltd-can-43527\n",
      "https://onlinepharmacy.mn/shop/700390-chicco-6m-exclusive-artsana-s-p-a-it-43344\n",
      "https://onlinepharmacy.mn/shop/700385-chicco-6-exclusive-artsana-s-p-a-it-43338\n",
      "https://onlinepharmacy.mn/shop/700356-chicco-exclusive-artsana-s-p-a-it-43307\n",
      "https://onlinepharmacy.mn/shop/200508-jamieson-3-omega-3-complex-wild-salmon-fish-oils-no180-20-jamieson-laboratories-ltd-can-57442?page=2\n",
      "https://onlinepharmacy.mn/shop/200015-jamieson-10-no100-exclusive-jamieson-laboratories-ltd-can-43531?page=2\n",
      "https://onlinepharmacy.mn/shop/200013-jamieson-1000-no240-exclusive-jamieson-laboratories-ltd-can-43529?page=2\n",
      "https://onlinepharmacy.mn/shop/200012-jamieson-100-no60-exclusive-jamieson-laboratories-ltd-can-43528?page=2\n",
      "https://onlinepharmacy.mn/shop/502649-ybskinever-c-30-vitamin-c-serum-20-yb-cosmetical-64029?page=2\n",
      "https://onlinepharmacy.mn/shop/502650-ybskinever-30-rehydration-mask-yb-cosmetical-64030?page=2\n",
      "https://onlinepharmacy.mn/shop/700389-chicco-6m-exclusive-artsana-s-p-a-it-43343?page=2\n",
      "https://onlinepharmacy.mn/shop/700388-chicco-6m-exclusive-artsana-s-p-a-it-43342?page=2\n",
      "https://onlinepharmacy.mn/shop/103032-no10-kwang-dong-kwang-dong-pharmaceuticals-co-ltd-64003?page=2\n",
      "https://onlinepharmacy.mn/shop/502639-power-100-kwang-dong-kwang-dong-pharmaceuticals-co-ltd-63954?page=2\n",
      "https://onlinepharmacy.mn/shop/502573-global-white-global-dent-llc-exclusive-global-dent-llc-63523?page=2\n",
      "https://onlinepharmacy.mn/shop/502572-global-white-global-dent-llc-exclusive-global-dent-llc-63522?page=2\n",
      "https://onlinepharmacy.mn/shop/700478-chicco-bm-body-wash-and-shampoo-750-exclusive-artsana-s-p-a-it-61027?page=2\n",
      "https://onlinepharmacy.mn/shop/502179-bionike-defence-cleansing-milk-exclusive-icim-international-s-r-l-it-58801?page=2\n",
      "https://onlinepharmacy.mn/shop/502174-bionike-defence-b-lucent-day-peel-illuminating-cream-cleaner-150ml-exclusive-icim-international-s-r-l-it-58796?page=2\n",
      "https://onlinepharmacy.mn/shop/102348-myhepall-400-100-no28-mylan-exclusive-mylan-laboratories-limited-ind-57937?page=2\n",
      "https://onlinepharmacy.mn/shop/200492-jamieson-ginkgo-biloba-no60-30-jamieson-laboratories-ltd-can-57453?page=2\n",
      "https://onlinepharmacy.mn/shop/200500-jamieson-multivitamins-for-women-gummies-no130-jamieson-laboratories-ltd-can-57451?page=2\n",
      "https://onlinepharmacy.mn/shop/200501-jamieson-power-for-men-no60-jamieson-laboratories-ltd-can-57450?page=2\n",
      "https://onlinepharmacy.mn/shop/200502-jamieson-prostease-saw-palmetto-no30-30-jamieson-laboratories-ltd-can-57447?page=2\n",
      "https://onlinepharmacy.mn/shop/103026-jamieson-10-probiotic-10-billion-no60-jamieson-laboratories-ltd-can-57444?page=2\n"
     ]
    }
   ],
   "source": [
    "baseurl = 'https://onlinepharmacy.mn/shop/page/'\n",
    "drug_list = []\n",
    "for i in range(1, 3):\n",
    "    url = baseurl + str(i)\n",
    "    #print(url)\n",
    "    response = requests.get(url)\n",
    "    if response.status_code != 200:\n",
    "        print(response.status_code)\n",
    "        print('error ', url)\n",
    "        continue\n",
    "    #print(response.text)\n",
    "    soup = BeautifulSoup(response.text, \"html.parser\")\n",
    "    li_list = soup.find_all(\"div\", {\"class\": \"o_wsale_product_grid_wrapper\"})\n",
    "    for li in li_list:\n",
    "        a = li.find('a')\n",
    "        drug_url = 'https://onlinepharmacy.mn' + a['href']\n",
    "        print(drug_url)\n",
    "        drug_list.append(drug_url)"
   ]
  },
  {
   "cell_type": "code",
   "execution_count": 5,
   "metadata": {},
   "outputs": [
    {
     "data": {
      "text/plain": [
       "46"
      ]
     },
     "execution_count": 5,
     "metadata": {},
     "output_type": "execute_result"
    }
   ],
   "source": [
    "len(drug_list)\n",
    "def findFeature(li_list, header):\n",
    "    ref = None\n",
    "    for li in li_list:\n",
    "        text = li.text.strip()\n",
    "        if text.startswith(header):\n",
    "            ref = text[len(header):].strip()\n",
    "            break\n",
    "    return ref"
   ]
  },
  {
   "cell_type": "code",
   "execution_count": 8,
   "metadata": {},
   "outputs": [],
   "source": [
    "drug_data = []\n",
    "it  = 0\n",
    "for url in drug_list:\n",
    "    it += 1\n",
    "    #print(url)\n",
    "    response = requests.get(url)\n",
    "    if response.status_code != 200:\n",
    "        #print(response.status_code)\n",
    "        print('error ', url)\n",
    "        continue\n",
    "    soup = BeautifulSoup(response.text, \"html.parser\")\n",
    "    title = soup.find(\"h1\", {\"class\": \"te_product_name\"}).text.strip()\n",
    "    type = soup.find(\"div\", {\"class\": \"p-1\"})\n",
    "    price = soup.find(\"span\", {\"class\": \"oe_currency_value\"}).text.strip()\n",
    "    curr_value = soup.find(\"span\", {\"class\": \"text-danger\"}).text.strip()\n",
    "    sale = soup.find(\"div\", {\"class\": \"te_percentage\"}).text.strip()\n",
    "    #sale = str(sale.split(' Off')[0])\n",
    "    quantity = soup.find(\"div\", {\"class\": \"availability_messages\"}).text.strip()\n",
    "    code = soup.find(\"div\", {\"class\": \"js_sku_div\"}).text.strip()\n",
    "    li_class = soup.find_all(\"li\")\n",
    "    category = findFeature(li_class, \"Барааны ангилал:\")\n",
    "    #category = soup.find(\"li\", {\"class\": \"te_p_categ_item\"}).text.strip()\n",
    "\n",
    "    #print(title, price, curr_value, sale, quantity, code, category)\n",
    "    drug = Drugs(title, price, curr_value, sale, quantity, code, category)\n",
    "    drug_data.append(drug.__dict__)\n",
    "    \n",
    "df = pd.DataFrame(drug_data)\n",
    "df.to_csv('drug_info.tsv', sep=\"\\t\", index=False)"
   ]
  },
  {
   "cell_type": "code",
   "execution_count": 7,
   "metadata": {},
   "outputs": [],
   "source": []
  }
 ],
 "metadata": {
  "kernelspec": {
   "display_name": "Python 3",
   "language": "python",
   "name": "python3"
  },
  "language_info": {
   "codemirror_mode": {
    "name": "ipython",
    "version": 3
   },
   "file_extension": ".py",
   "mimetype": "text/x-python",
   "name": "python",
   "nbconvert_exporter": "python",
   "pygments_lexer": "ipython3",
   "version": "3.11.4"
  },
  "orig_nbformat": 4
 },
 "nbformat": 4,
 "nbformat_minor": 2
}
