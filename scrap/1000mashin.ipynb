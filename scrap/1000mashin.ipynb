{
 "cells": [
  {
   "cell_type": "code",
   "execution_count": 2,
   "metadata": {},
   "outputs": [],
   "source": [
    "import requests\n",
    "import urllib.request\n",
    "from bs4 import BeautifulSoup\n",
    "import pandas as pd"
   ]
  },
  {
   "cell_type": "code",
   "execution_count": 3,
   "metadata": {},
   "outputs": [],
   "source": [
    "class Cars:\n",
    "    def __init__(self, manufacturer_, mark_, price_, type_, distance_, produced_year_, imported_year_, motor_volume_, condition_, color_, drive_, horobk_, most_, suudal_):\n",
    "        self.manu = manufacturer_\n",
    "        self.mark = mark_\n",
    "        self.price = price_\n",
    "        self.distance = distance_\n",
    "        self.type = type_\n",
    "        self.produced_year = produced_year_\n",
    "        self.imported_year = imported_year_\n",
    "        self.motor_volume = motor_volume_\n",
    "        self.condition = condition_\n",
    "        self.color = color_\n",
    "        self.drive_ = drive_\n",
    "        self.horobk = horobk_\n",
    "        self.most = most_\n",
    "        self.suudal = suudal_"
   ]
  },
  {
   "cell_type": "code",
   "execution_count": 16,
   "metadata": {},
   "outputs": [
    {
     "name": "stdout",
     "output_type": "stream",
     "text": [
      "https://1000mashin.mn/car-listing?type_id=&type_q=\n",
      "https://1000mashin.mn/car-listing?type_id=&type_q=\n",
      "https://1000mashin.mn/car-listing?type_id=&type_q=\n",
      "https://1000mashin.mn/car-listing?type_id=&type_q=\n",
      "https://1000mashin.mn/car-listing?type_id=&type_q=\n",
      "https://1000mashin.mn/car-listing?type_id=&type_q=\n",
      "https://1000mashin.mn/car-listing?type_id=&type_q=\n",
      "https://1000mashin.mn/car-listing?type_id=&type_q=\n",
      "https://1000mashin.mn/car-listing?type_id=&type_q=\n"
     ]
    }
   ],
   "source": [
    "baseurl = 'https://1000mashin.mn/car-listing?type_id=&type_q='\n",
    "car_list = []\n",
    "for i in range(1, 10):\n",
    "    url = baseurl\n",
    "    print(url)\n",
    "    response = requests.get(url)\n",
    "    if response.status_code != 200:\n",
    "        print(response.status_code)\n",
    "        print('error ', url)\n",
    "        continue\n",
    "    #print(response.text)\n",
    "    soup = BeautifulSoup(response.text, \"html.parser\")\n",
    "    li_list = soup.find_all(\"div\", {\"class\": \"product-card__image grid\"})\n",
    "    for div in li_list:\n",
    "        a = div.find('a')\n",
    "        car_url = 'https://1000mashin.mn' + a['href']\n",
    "        print(car_url)\n",
    "        car_list.append(car_url)"
   ]
  },
  {
   "cell_type": "code",
   "execution_count": 12,
   "metadata": {},
   "outputs": [
    {
     "ename": "TypeError",
     "evalue": "'NoneType' object is not subscriptable",
     "output_type": "error",
     "traceback": [
      "\u001b[1;31m---------------------------------------------------------------------------\u001b[0m",
      "\u001b[1;31mTypeError\u001b[0m                                 Traceback (most recent call last)",
      "Cell \u001b[1;32mIn[12], line 16\u001b[0m\n\u001b[0;32m     14\u001b[0m \u001b[39mfor\u001b[39;00m li \u001b[39min\u001b[39;00m li_list:\n\u001b[0;32m     15\u001b[0m     a \u001b[39m=\u001b[39m li\u001b[39m.\u001b[39mfind(\u001b[39m'\u001b[39m\u001b[39ma\u001b[39m\u001b[39m'\u001b[39m)\n\u001b[1;32m---> 16\u001b[0m     car_url \u001b[39m=\u001b[39m \u001b[39m\"\u001b[39m\u001b[39mhttps://1000mashin.mn\u001b[39m\u001b[39m\"\u001b[39m \u001b[39m+\u001b[39m a[\u001b[39m'\u001b[39;49m\u001b[39mhref\u001b[39;49m\u001b[39m'\u001b[39;49m]\n\u001b[0;32m     17\u001b[0m     \u001b[39mprint\u001b[39m(car_url)\n\u001b[0;32m     18\u001b[0m     car_list\u001b[39m.\u001b[39mappend(car_url)\n",
      "\u001b[1;31mTypeError\u001b[0m: 'NoneType' object is not subscriptable"
     ]
    }
   ],
   "source": [
    "baseurl = 'https://1000mashin.mn/car-listing?type_id=&type_q='\n",
    "car_list = []\n",
    "for i in range(1, 3):\n",
    "    url = baseurl\n",
    "    #print(url)\n",
    "    response = requests.get(url)\n",
    "    if response.status_code != 200:\n",
    "        print(response.status_code)\n",
    "        print('error ', url)\n",
    "        continue\n",
    "    #print(response.text)\n",
    "    soup = BeautifulSoup(response.text, \"html.parser\")\n",
    "    li_list = soup.find_all(\"div\", {\"class\": \"products-view__list products-list products-list--grid--6 mt-20\"})\n",
    "    for li in li_list:\n",
    "        a = li.find('a')\n",
    "        car_url = \"https://1000mashin.mn\" + a['href']\n",
    "        print(car_url)\n",
    "        car_list.append(car_url)"
   ]
  },
  {
   "cell_type": "code",
   "execution_count": 10,
   "metadata": {},
   "outputs": [
    {
     "name": "stdout",
     "output_type": "stream",
     "text": [
      "end orloo\n"
     ]
    }
   ],
   "source": [
    "base_url = 'https://1000mashin.mn/car-listing'\n",
    "\n",
    "# Mimic any necessary headers or parameters from the network request\n",
    "headers = {\n",
    "    'User-Agent': 'Your User Agent String',\n",
    "    'Referer': 'https://1000mashin.mn/',\n",
    "    # Add any other headers as necessary\n",
    "}\n",
    "\n",
    "car_list = []\n",
    "\n",
    "page = 1\n",
    "while True:\n",
    "    params = {\n",
    "        'type_id': '',\n",
    "        'type_q': '',\n",
    "        'page': page  # Assuming 'page' is the parameter for pagination\n",
    "    }\n",
    "    response = requests.get(base_url, headers=headers, params=params)\n",
    "    if response.status_code != 200:\n",
    "        print('Failed to retrieve page', page)\n",
    "        break\n",
    "\n",
    "    soup = BeautifulSoup(response.text, 'html.parser')\n",
    "    li_list = soup.find_all('div', class_='products-list__content')\n",
    "    if not li_list:\n",
    "        print(\"end orloo\")\n",
    "        # No more car listings, break out of the loop\n",
    "        break\n",
    "\n",
    "    for li in li_list:\n",
    "        a = li.find('a')\n",
    "        #print(a['href'])\n",
    "        car_url = 'https://1000mashin.mn' + a['href']\n",
    "        print(car_url)\n",
    "        car_list.append(car_url)\n",
    "\n",
    "    page += 1\n"
   ]
  }
 ],
 "metadata": {
  "kernelspec": {
   "display_name": "Python 3",
   "language": "python",
   "name": "python3"
  },
  "language_info": {
   "codemirror_mode": {
    "name": "ipython",
    "version": 3
   },
   "file_extension": ".py",
   "mimetype": "text/x-python",
   "name": "python",
   "nbconvert_exporter": "python",
   "pygments_lexer": "ipython3",
   "version": "3.11.4"
  },
  "orig_nbformat": 4
 },
 "nbformat": 4,
 "nbformat_minor": 2
}
