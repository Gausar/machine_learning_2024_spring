{
  "cells": [
    {
      "cell_type": "markdown",
      "metadata": {
        "id": "KFCXnsSM-5ou"
      },
      "source": [
        "**1. Өгөгдсөн хүснэгтээс нийт ялгаатай утгатай элемэнтүүдийн тоог ол.**"
      ]
    },
    {
      "cell_type": "code",
      "execution_count": 3,
      "metadata": {
        "colab": {
          "base_uri": "https://localhost:8080/"
        },
        "id": "LHpvosqz-8ro",
        "outputId": "7037cf00-0bd5-4bae-8c6c-64ae10fd013a"
      },
      "outputs": [
        {
          "data": {
            "text/plain": [
              "7"
            ]
          },
          "execution_count": 3,
          "metadata": {},
          "output_type": "execute_result"
        }
      ],
      "source": [
        "def count(table):\n",
        "    unique_el = set()\n",
        "    for row in table:\n",
        "        for element in row:\n",
        "            unique_el.add(element)\n",
        "    return len(unique_el)\n",
        "ele = [[1, 2, 3],\n",
        "       [2, \"aa\", \"cc\"],\n",
        "       [\"a1\", \"a1\", 4.3]]\n",
        "t = count(ele)\n",
        "t"
      ]
    },
    {
      "cell_type": "markdown",
      "metadata": {
        "id": "agTNEbDBAL8T"
      },
      "source": [
        "**2. Өгөгдсөн өгүүлбэрийн үг бүр нь хэдэн удаа давтагдсанг ол.**"
      ]
    },
    {
      "cell_type": "code",
      "execution_count": 13,
      "metadata": {
        "colab": {
          "base_uri": "https://localhost:8080/"
        },
        "id": "TjSCImydAQ9s",
        "outputId": "ff18d6ad-b47d-4b27-9891-ff2dc2aff018"
      },
      "outputs": [
        {
          "name": "stdout",
          "output_type": "stream",
          "text": [
            "Санамсаргүй = 1\n",
            "хувьсагчийн = 1\n",
            "тархалтын = 3\n",
            "функц = 3\n",
            "ба = 1\n",
            "нягтын = 1\n",
            "уялдаа = 1\n",
            "холбоо = 1\n",
            "квантил = 1\n",
            "математик = 1\n",
            "дунджийн = 1\n",
            "чанар = 1\n",
            "илтгэгч = 1\n",
            "болон = 1\n",
            "хэвийн = 1\n",
            "тархалт = 1\n"
          ]
        }
      ],
      "source": [
        "\n",
        "num = {}\n",
        "str = \"Санамсаргүй хувьсагчийн тархалтын функц тархалтын функц ба нягтын функц уялдаа холбоо тархалтын квантил математик дунджийн чанар илтгэгч болон хэвийн тархалт\"\n",
        "words = str.split()\n",
        "for i in words:\n",
        "    if i in num:\n",
        "        num[i] += 1\n",
        "    else:\n",
        "        num[i] = 1\n",
        "for i, num in num.items():\n",
        "    print(f\"{i} = {num}\")"
      ]
    },
    {
      "cell_type": "code",
      "execution_count": 14,
      "metadata": {},
      "outputs": [
        {
          "name": "stdout",
          "output_type": "stream",
          "text": [
            "Санамсаргүй = 1\n",
            "хувьсагчийн = 1\n",
            "тархалтын = 3\n",
            "функц = 3\n",
            "ба = 1\n",
            "нягтын = 1\n",
            "уялдаа = 1\n",
            "холбоо = 1\n",
            "квантил = 1\n",
            "математик = 1\n",
            "дунджийн = 1\n",
            "чанар = 1\n",
            "илтгэгч = 1\n",
            "болон = 1\n",
            "хэвийн = 1\n",
            "тархалт = 1\n"
          ]
        }
      ],
      "source": [
        "from collections import defaultdict\n",
        "\n",
        "num = defaultdict(int)\n",
        "sentence = \"Санамсаргүй хувьсагчийн тархалтын функц тархалтын функц ба нягтын функц уялдаа холбоо тархалтын квантил математик дунджийн чанар илтгэгч болон хэвийн тархалт\"\n",
        "words = sentence.split()\n",
        "\n",
        "for i in words:\n",
        "    num[i] += 1\n",
        "\n",
        "for word, num in num.items():\n",
        "    print(f\"{word} = {num}\")\n"
      ]
    },
    {
      "cell_type": "markdown",
      "metadata": {
        "id": "LX-ZDnR6CJ2N"
      },
      "source": [
        "**3. Өгөгдсөн хүснэгтээс 'xyz' тэмдэгт мөрийг агуулсан тэмдэгт мөрүүдийг хэвлэ.**"
      ]
    },
    {
      "cell_type": "code",
      "execution_count": 7,
      "metadata": {
        "colab": {
          "base_uri": "https://localhost:8080/"
        },
        "id": "kSjH6IWdCQUL",
        "outputId": "d1dab706-05f0-4599-da80-851688a4e166"
      },
      "outputs": [
        {
          "name": "stdout",
          "output_type": "stream",
          "text": [
            "abcxyz\n",
            "aaaxyz\n",
            "txyzaa\n",
            "tuvwxyz\n"
          ]
        }
      ],
      "source": [
        "table = []\n",
        "table  = [['abcdef', 'abcxyz', 'aaaxyz', 'dddddd', 'xyhasgz', 'jjjxjyz'],\n",
        "          ['bxhsyz', 'txyzaa', 'aaaaa', 'mother', 'chemis', 'tuvwxyz']]\n",
        "for i in table:\n",
        "    for j in i:\n",
        "        if 'xyz' in j:\n",
        "            print(j)"
      ]
    },
    {
      "cell_type": "markdown",
      "metadata": {
        "id": "EIy9qtGgDggL"
      },
      "source": [
        "**4. Өгөгдсөн хүснэгтээс 'xyz' тэмдэгт мөрөөр эхэлсэн эсвэл төгссөн тэмдэгт мөрүүдийг хэвлэ.**"
      ]
    },
    {
      "cell_type": "code",
      "execution_count": 9,
      "metadata": {
        "colab": {
          "base_uri": "https://localhost:8080/"
        },
        "id": "iLYshlNoDpSE",
        "outputId": "2647c308-f7c7-4a6d-f4cf-4d74bf9c0a9e"
      },
      "outputs": [
        {
          "name": "stdout",
          "output_type": "stream",
          "text": [
            "xyzaaa\n",
            "tuvwxyz\n"
          ]
        }
      ],
      "source": [
        "table = []\n",
        "table  = [['abcdef', 'abxyzc', 'xyzaaa', 'dddddd', 'xyhasgz', 'jjjxjyz'],\n",
        "          ['bxhsyz', 'txyzaa', 'aaaaa', 'mother', 'chemis', 'tuvwxyz']]\n",
        "for i in table:\n",
        "        for j in i:\n",
        "            if j.startswith('xyz') or j.endswith('xyz'):\n",
        "                print(j)"
      ]
    },
    {
      "cell_type": "markdown",
      "metadata": {
        "id": "yl9r6lt0EZkJ"
      },
      "source": [
        "**5. Хамгийн эхний анхны 50 тоог олох функц бич.**"
      ]
    },
    {
      "cell_type": "code",
      "execution_count": 13,
      "metadata": {
        "colab": {
          "base_uri": "https://localhost:8080/"
        },
        "id": "6TtLBhG8EfHa",
        "outputId": "7ea477ca-d291-4a86-a79d-47459acf8655"
      },
      "outputs": [
        {
          "name": "stdout",
          "output_type": "stream",
          "text": [
            "[2, 3, 5, 7, 11, 13, 17, 19, 23, 29, 31, 37, 41, 43, 47, 53, 59, 61, 67, 71, 73, 79, 83, 89, 97, 101, 103, 107, 109, 113, 127, 131, 137, 139, 149, 151, 157, 163, 167, 173, 179, 181, 191, 193, 197, 199, 211, 223, 227, 229, 233]\n"
          ]
        }
      ],
      "source": [
        "def prime_num():\n",
        "    prime = []\n",
        "    too = 2\n",
        "    i = 1\n",
        "    while len(prime) < 51:\n",
        "        is_prime = 0\n",
        "        for i in range(2, int(too/2) + 1):\n",
        "            if too % i == 0:\n",
        "                is_prime = 1\n",
        "                break\n",
        "        if is_prime == 0:\n",
        "            prime.append(too)\n",
        "        too = too + 1\n",
        "    print(prime)\n",
        "prime_num()"
      ]
    }
  ],
  "metadata": {
    "colab": {
      "provenance": []
    },
    "kernelspec": {
      "display_name": "Python 3",
      "name": "python3"
    },
    "language_info": {
      "codemirror_mode": {
        "name": "ipython",
        "version": 3
      },
      "file_extension": ".py",
      "mimetype": "text/x-python",
      "name": "python",
      "nbconvert_exporter": "python",
      "pygments_lexer": "ipython3",
      "version": "3.11.4"
    }
  },
  "nbformat": 4,
  "nbformat_minor": 0
}
